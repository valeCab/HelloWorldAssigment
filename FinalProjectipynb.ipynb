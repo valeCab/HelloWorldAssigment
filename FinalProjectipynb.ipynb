{
  "nbformat": 4,
  "nbformat_minor": 0,
  "metadata": {
    "colab": {
      "provenance": []
    },
    "kernelspec": {
      "name": "python3",
      "display_name": "Python 3"
    },
    "language_info": {
      "name": "python"
    }
  },
  "cells": [
    {
      "cell_type": "code",
      "source": [
        "from google.colab import drive\n",
        "import sys, pandas\n",
        "drive.mount('/content/drive')\n",
        "sys.path.append('/content/drive/MyDrive/Colab Notebooks')"
      ],
      "metadata": {
        "colab": {
          "base_uri": "https://localhost:8080/"
        },
        "id": "A1zYl87IThNr",
        "outputId": "42f6a8f1-3f43-4853-ef72-c24e730c3457"
      },
      "execution_count": null,
      "outputs": [
        {
          "output_type": "stream",
          "name": "stdout",
          "text": [
            "Mounted at /content/drive\n"
          ]
        }
      ]
    },
    {
      "cell_type": "code",
      "source": [
        "import pandas as pd"
      ],
      "metadata": {
        "id": "BgL8ei5RUELF",
        "collapsed": true
      },
      "execution_count": null,
      "outputs": []
    },
    {
      "cell_type": "code",
      "source": [
        "df1 = pd.read_csv('/content/drive/MyDrive/Colab Notebooks/HealthExpenditure.csv', skiprows=3)\n",
        "df2 = pd.read_csv('/content/drive/MyDrive/Colab Notebooks/LifeExpectancy.csv', skiprows=3)\n",
        "\n",
        "print(\"Health Expenditure Data:\")\n",
        "print(df1.head())\n",
        "\n",
        "print(\"\\nLife Expectancy Data:\")\n",
        "print(df2.head())"
      ],
      "metadata": {
        "colab": {
          "base_uri": "https://localhost:8080/"
        },
        "id": "_wNiJK_oO1Hq",
        "outputId": "19274721-57b5-498e-ec73-6c3507f83013"
      },
      "execution_count": null,
      "outputs": [
        {
          "output_type": "stream",
          "name": "stdout",
          "text": [
            "Health Expenditure Data:\n",
            "                  Country Name Country Code  \\\n",
            "0                        Aruba          ABW   \n",
            "1  Africa Eastern and Southern          AFE   \n",
            "2                  Afghanistan          AFG   \n",
            "3   Africa Western and Central          AFW   \n",
            "4                       Angola          AGO   \n",
            "\n",
            "                          Indicator Name     Indicator Code  1960  1961  1962  \\\n",
            "0  Current health expenditure (% of GDP)  SH.XPD.CHEX.GD.ZS   NaN   NaN   NaN   \n",
            "1  Current health expenditure (% of GDP)  SH.XPD.CHEX.GD.ZS   NaN   NaN   NaN   \n",
            "2  Current health expenditure (% of GDP)  SH.XPD.CHEX.GD.ZS   NaN   NaN   NaN   \n",
            "3  Current health expenditure (% of GDP)  SH.XPD.CHEX.GD.ZS   NaN   NaN   NaN   \n",
            "4  Current health expenditure (% of GDP)  SH.XPD.CHEX.GD.ZS   NaN   NaN   NaN   \n",
            "\n",
            "   1963  1964  1965  ...       2015       2016       2017       2018  \\\n",
            "0   NaN   NaN   NaN  ...        NaN        NaN        NaN        NaN   \n",
            "1   NaN   NaN   NaN  ...   5.997956   6.097888   5.968235   5.809327   \n",
            "2   NaN   NaN   NaN  ...  10.105348  11.818590  12.620817  14.208419   \n",
            "3   NaN   NaN   NaN  ...   3.855754   3.834578   3.834390   3.444878   \n",
            "4   NaN   NaN   NaN  ...   2.605795   2.713150   2.793838   2.588796   \n",
            "\n",
            "        2019       2020       2021  2022  2023  Unnamed: 68  \n",
            "0        NaN        NaN        NaN   NaN   NaN          NaN  \n",
            "1   5.820168   5.863514   5.870145   NaN   NaN          NaN  \n",
            "2  14.831320  15.533614  21.827950   NaN   NaN          NaN  \n",
            "3   3.434560   3.859819   4.157479   NaN   NaN          NaN  \n",
            "4   2.475180   3.220706   2.960106   NaN   NaN          NaN  \n",
            "\n",
            "[5 rows x 69 columns]\n",
            "\n",
            "Life Expectancy Data:\n",
            "                  Country Name Country Code  \\\n",
            "0                        Aruba          ABW   \n",
            "1  Africa Eastern and Southern          AFE   \n",
            "2                  Afghanistan          AFG   \n",
            "3   Africa Western and Central          AFW   \n",
            "4                       Angola          AGO   \n",
            "\n",
            "                            Indicator Name  Indicator Code       1960  \\\n",
            "0  Life expectancy at birth, total (years)  SP.DYN.LE00.IN  64.152000   \n",
            "1  Life expectancy at birth, total (years)  SP.DYN.LE00.IN  44.098835   \n",
            "2  Life expectancy at birth, total (years)  SP.DYN.LE00.IN  32.535000   \n",
            "3  Life expectancy at birth, total (years)  SP.DYN.LE00.IN  37.846145   \n",
            "4  Life expectancy at birth, total (years)  SP.DYN.LE00.IN  38.211000   \n",
            "\n",
            "        1961       1962       1963       1964      1965  ...       2015  \\\n",
            "0  64.537000  64.752000  65.132000  65.294000  65.50200  ...  75.683000   \n",
            "1  44.401083  44.768037  44.925690  45.498933  45.51282  ...  61.856856   \n",
            "2  33.068000  33.547000  34.016000  34.494000  34.95300  ...  62.659000   \n",
            "3  38.165478  38.735788  39.063273  39.333621  39.61488  ...  56.135275   \n",
            "4  37.267000  37.539000  37.824000  38.131000  38.49500  ...  60.655000   \n",
            "\n",
            "        2016       2017       2018       2019       2020       2021  \\\n",
            "0  75.617000  75.903000  76.072000  76.248000  75.723000  74.626000   \n",
            "1  62.444641  62.924810  63.367037  63.754752  63.309794  62.449093   \n",
            "2  63.136000  63.016000  63.081000  63.565000  62.575000  61.982000   \n",
            "3  56.518086  56.826634  57.129707  57.500295  57.180671  56.946475   \n",
            "4  61.092000  61.680000  62.144000  62.448000  62.261000  61.643000   \n",
            "\n",
            "        2022  2023  Unnamed: 68  \n",
            "0  74.992000   NaN          NaN  \n",
            "1  62.888463   NaN          NaN  \n",
            "2  62.879000   NaN          NaN  \n",
            "3  57.589106   NaN          NaN  \n",
            "4  61.929000   NaN          NaN  \n",
            "\n",
            "[5 rows x 69 columns]\n"
          ]
        }
      ]
    },
    {
      "cell_type": "code",
      "source": [
        "# Data from the US and Bangladesh\n",
        "countries = [\"United States\", \"Bangladesh\"]\n",
        "df1 = df1[df1['Country Name'].isin(countries)]\n",
        "df2 = df2[df2['Country Name'].isin(countries)]"
      ],
      "metadata": {
        "id": "KbdKhiJ8Q4vI"
      },
      "execution_count": null,
      "outputs": []
    },
    {
      "cell_type": "code",
      "source": [
        "# Data from 2021\n",
        "year = \"2021\"\n",
        "df1 = df1[['Country Name', year]]\n",
        "df2 = df2[['Country Name', year]]"
      ],
      "metadata": {
        "id": "P2zPc0OBQnRE"
      },
      "execution_count": null,
      "outputs": []
    },
    {
      "cell_type": "code",
      "source": [
        "# Basic Statistics\n",
        "df1 = df1.rename(columns={year: 'Health Expenditure (% of GDP)'})\n",
        "df2 = df2.rename(columns={year: 'Life Expectancy (Years)'})\n",
        "\n",
        "df_combined = pd.merge(df1, df2, on='Country Name')\n",
        "print(df_combined)\n",
        "\n",
        "print(\"\\nBasic Statistics:\")\n",
        "df_combined.describe()"
      ],
      "metadata": {
        "colab": {
          "base_uri": "https://localhost:8080/",
          "height": 390
        },
        "id": "i4jvV3IiQDcg",
        "outputId": "8dd066e0-96a4-4346-b312-cd1427dd81b9"
      },
      "execution_count": null,
      "outputs": [
        {
          "output_type": "stream",
          "name": "stdout",
          "text": [
            "    Country Name  Health Expenditure (% of GDP)  Life Expectancy (Years)\n",
            "0     Bangladesh                       2.364930                72.381000\n",
            "1  United States                      17.362568                76.329268\n",
            "\n",
            "Basic Statistics:\n"
          ]
        },
        {
          "output_type": "execute_result",
          "data": {
            "text/plain": [
              "       Health Expenditure (% of GDP)  Life Expectancy (Years)\n",
              "count                       2.000000                 2.000000\n",
              "mean                        9.863749                74.355134\n",
              "std                        10.604932                 2.791847\n",
              "min                         2.364930                72.381000\n",
              "25%                         6.114339                73.368067\n",
              "50%                         9.863749                74.355134\n",
              "75%                        13.613158                75.342201\n",
              "max                        17.362568                76.329268"
            ],
            "text/html": [
              "\n",
              "  <div id=\"df-e65dbeab-d99b-4143-9733-7b70e043035e\" class=\"colab-df-container\">\n",
              "    <div>\n",
              "<style scoped>\n",
              "    .dataframe tbody tr th:only-of-type {\n",
              "        vertical-align: middle;\n",
              "    }\n",
              "\n",
              "    .dataframe tbody tr th {\n",
              "        vertical-align: top;\n",
              "    }\n",
              "\n",
              "    .dataframe thead th {\n",
              "        text-align: right;\n",
              "    }\n",
              "</style>\n",
              "<table border=\"1\" class=\"dataframe\">\n",
              "  <thead>\n",
              "    <tr style=\"text-align: right;\">\n",
              "      <th></th>\n",
              "      <th>Health Expenditure (% of GDP)</th>\n",
              "      <th>Life Expectancy (Years)</th>\n",
              "    </tr>\n",
              "  </thead>\n",
              "  <tbody>\n",
              "    <tr>\n",
              "      <th>count</th>\n",
              "      <td>2.000000</td>\n",
              "      <td>2.000000</td>\n",
              "    </tr>\n",
              "    <tr>\n",
              "      <th>mean</th>\n",
              "      <td>9.863749</td>\n",
              "      <td>74.355134</td>\n",
              "    </tr>\n",
              "    <tr>\n",
              "      <th>std</th>\n",
              "      <td>10.604932</td>\n",
              "      <td>2.791847</td>\n",
              "    </tr>\n",
              "    <tr>\n",
              "      <th>min</th>\n",
              "      <td>2.364930</td>\n",
              "      <td>72.381000</td>\n",
              "    </tr>\n",
              "    <tr>\n",
              "      <th>25%</th>\n",
              "      <td>6.114339</td>\n",
              "      <td>73.368067</td>\n",
              "    </tr>\n",
              "    <tr>\n",
              "      <th>50%</th>\n",
              "      <td>9.863749</td>\n",
              "      <td>74.355134</td>\n",
              "    </tr>\n",
              "    <tr>\n",
              "      <th>75%</th>\n",
              "      <td>13.613158</td>\n",
              "      <td>75.342201</td>\n",
              "    </tr>\n",
              "    <tr>\n",
              "      <th>max</th>\n",
              "      <td>17.362568</td>\n",
              "      <td>76.329268</td>\n",
              "    </tr>\n",
              "  </tbody>\n",
              "</table>\n",
              "</div>\n",
              "    <div class=\"colab-df-buttons\">\n",
              "\n",
              "  <div class=\"colab-df-container\">\n",
              "    <button class=\"colab-df-convert\" onclick=\"convertToInteractive('df-e65dbeab-d99b-4143-9733-7b70e043035e')\"\n",
              "            title=\"Convert this dataframe to an interactive table.\"\n",
              "            style=\"display:none;\">\n",
              "\n",
              "  <svg xmlns=\"http://www.w3.org/2000/svg\" height=\"24px\" viewBox=\"0 -960 960 960\">\n",
              "    <path d=\"M120-120v-720h720v720H120Zm60-500h600v-160H180v160Zm220 220h160v-160H400v160Zm0 220h160v-160H400v160ZM180-400h160v-160H180v160Zm440 0h160v-160H620v160ZM180-180h160v-160H180v160Zm440 0h160v-160H620v160Z\"/>\n",
              "  </svg>\n",
              "    </button>\n",
              "\n",
              "  <style>\n",
              "    .colab-df-container {\n",
              "      display:flex;\n",
              "      gap: 12px;\n",
              "    }\n",
              "\n",
              "    .colab-df-convert {\n",
              "      background-color: #E8F0FE;\n",
              "      border: none;\n",
              "      border-radius: 50%;\n",
              "      cursor: pointer;\n",
              "      display: none;\n",
              "      fill: #1967D2;\n",
              "      height: 32px;\n",
              "      padding: 0 0 0 0;\n",
              "      width: 32px;\n",
              "    }\n",
              "\n",
              "    .colab-df-convert:hover {\n",
              "      background-color: #E2EBFA;\n",
              "      box-shadow: 0px 1px 2px rgba(60, 64, 67, 0.3), 0px 1px 3px 1px rgba(60, 64, 67, 0.15);\n",
              "      fill: #174EA6;\n",
              "    }\n",
              "\n",
              "    .colab-df-buttons div {\n",
              "      margin-bottom: 4px;\n",
              "    }\n",
              "\n",
              "    [theme=dark] .colab-df-convert {\n",
              "      background-color: #3B4455;\n",
              "      fill: #D2E3FC;\n",
              "    }\n",
              "\n",
              "    [theme=dark] .colab-df-convert:hover {\n",
              "      background-color: #434B5C;\n",
              "      box-shadow: 0px 1px 3px 1px rgba(0, 0, 0, 0.15);\n",
              "      filter: drop-shadow(0px 1px 2px rgba(0, 0, 0, 0.3));\n",
              "      fill: #FFFFFF;\n",
              "    }\n",
              "  </style>\n",
              "\n",
              "    <script>\n",
              "      const buttonEl =\n",
              "        document.querySelector('#df-e65dbeab-d99b-4143-9733-7b70e043035e button.colab-df-convert');\n",
              "      buttonEl.style.display =\n",
              "        google.colab.kernel.accessAllowed ? 'block' : 'none';\n",
              "\n",
              "      async function convertToInteractive(key) {\n",
              "        const element = document.querySelector('#df-e65dbeab-d99b-4143-9733-7b70e043035e');\n",
              "        const dataTable =\n",
              "          await google.colab.kernel.invokeFunction('convertToInteractive',\n",
              "                                                    [key], {});\n",
              "        if (!dataTable) return;\n",
              "\n",
              "        const docLinkHtml = 'Like what you see? Visit the ' +\n",
              "          '<a target=\"_blank\" href=https://colab.research.google.com/notebooks/data_table.ipynb>data table notebook</a>'\n",
              "          + ' to learn more about interactive tables.';\n",
              "        element.innerHTML = '';\n",
              "        dataTable['output_type'] = 'display_data';\n",
              "        await google.colab.output.renderOutput(dataTable, element);\n",
              "        const docLink = document.createElement('div');\n",
              "        docLink.innerHTML = docLinkHtml;\n",
              "        element.appendChild(docLink);\n",
              "      }\n",
              "    </script>\n",
              "  </div>\n",
              "\n",
              "\n",
              "<div id=\"df-61717c33-883e-46ef-820f-a2b85a1a1310\">\n",
              "  <button class=\"colab-df-quickchart\" onclick=\"quickchart('df-61717c33-883e-46ef-820f-a2b85a1a1310')\"\n",
              "            title=\"Suggest charts\"\n",
              "            style=\"display:none;\">\n",
              "\n",
              "<svg xmlns=\"http://www.w3.org/2000/svg\" height=\"24px\"viewBox=\"0 0 24 24\"\n",
              "     width=\"24px\">\n",
              "    <g>\n",
              "        <path d=\"M19 3H5c-1.1 0-2 .9-2 2v14c0 1.1.9 2 2 2h14c1.1 0 2-.9 2-2V5c0-1.1-.9-2-2-2zM9 17H7v-7h2v7zm4 0h-2V7h2v10zm4 0h-2v-4h2v4z\"/>\n",
              "    </g>\n",
              "</svg>\n",
              "  </button>\n",
              "\n",
              "<style>\n",
              "  .colab-df-quickchart {\n",
              "      --bg-color: #E8F0FE;\n",
              "      --fill-color: #1967D2;\n",
              "      --hover-bg-color: #E2EBFA;\n",
              "      --hover-fill-color: #174EA6;\n",
              "      --disabled-fill-color: #AAA;\n",
              "      --disabled-bg-color: #DDD;\n",
              "  }\n",
              "\n",
              "  [theme=dark] .colab-df-quickchart {\n",
              "      --bg-color: #3B4455;\n",
              "      --fill-color: #D2E3FC;\n",
              "      --hover-bg-color: #434B5C;\n",
              "      --hover-fill-color: #FFFFFF;\n",
              "      --disabled-bg-color: #3B4455;\n",
              "      --disabled-fill-color: #666;\n",
              "  }\n",
              "\n",
              "  .colab-df-quickchart {\n",
              "    background-color: var(--bg-color);\n",
              "    border: none;\n",
              "    border-radius: 50%;\n",
              "    cursor: pointer;\n",
              "    display: none;\n",
              "    fill: var(--fill-color);\n",
              "    height: 32px;\n",
              "    padding: 0;\n",
              "    width: 32px;\n",
              "  }\n",
              "\n",
              "  .colab-df-quickchart:hover {\n",
              "    background-color: var(--hover-bg-color);\n",
              "    box-shadow: 0 1px 2px rgba(60, 64, 67, 0.3), 0 1px 3px 1px rgba(60, 64, 67, 0.15);\n",
              "    fill: var(--button-hover-fill-color);\n",
              "  }\n",
              "\n",
              "  .colab-df-quickchart-complete:disabled,\n",
              "  .colab-df-quickchart-complete:disabled:hover {\n",
              "    background-color: var(--disabled-bg-color);\n",
              "    fill: var(--disabled-fill-color);\n",
              "    box-shadow: none;\n",
              "  }\n",
              "\n",
              "  .colab-df-spinner {\n",
              "    border: 2px solid var(--fill-color);\n",
              "    border-color: transparent;\n",
              "    border-bottom-color: var(--fill-color);\n",
              "    animation:\n",
              "      spin 1s steps(1) infinite;\n",
              "  }\n",
              "\n",
              "  @keyframes spin {\n",
              "    0% {\n",
              "      border-color: transparent;\n",
              "      border-bottom-color: var(--fill-color);\n",
              "      border-left-color: var(--fill-color);\n",
              "    }\n",
              "    20% {\n",
              "      border-color: transparent;\n",
              "      border-left-color: var(--fill-color);\n",
              "      border-top-color: var(--fill-color);\n",
              "    }\n",
              "    30% {\n",
              "      border-color: transparent;\n",
              "      border-left-color: var(--fill-color);\n",
              "      border-top-color: var(--fill-color);\n",
              "      border-right-color: var(--fill-color);\n",
              "    }\n",
              "    40% {\n",
              "      border-color: transparent;\n",
              "      border-right-color: var(--fill-color);\n",
              "      border-top-color: var(--fill-color);\n",
              "    }\n",
              "    60% {\n",
              "      border-color: transparent;\n",
              "      border-right-color: var(--fill-color);\n",
              "    }\n",
              "    80% {\n",
              "      border-color: transparent;\n",
              "      border-right-color: var(--fill-color);\n",
              "      border-bottom-color: var(--fill-color);\n",
              "    }\n",
              "    90% {\n",
              "      border-color: transparent;\n",
              "      border-bottom-color: var(--fill-color);\n",
              "    }\n",
              "  }\n",
              "</style>\n",
              "\n",
              "  <script>\n",
              "    async function quickchart(key) {\n",
              "      const quickchartButtonEl =\n",
              "        document.querySelector('#' + key + ' button');\n",
              "      quickchartButtonEl.disabled = true;  // To prevent multiple clicks.\n",
              "      quickchartButtonEl.classList.add('colab-df-spinner');\n",
              "      try {\n",
              "        const charts = await google.colab.kernel.invokeFunction(\n",
              "            'suggestCharts', [key], {});\n",
              "      } catch (error) {\n",
              "        console.error('Error during call to suggestCharts:', error);\n",
              "      }\n",
              "      quickchartButtonEl.classList.remove('colab-df-spinner');\n",
              "      quickchartButtonEl.classList.add('colab-df-quickchart-complete');\n",
              "    }\n",
              "    (() => {\n",
              "      let quickchartButtonEl =\n",
              "        document.querySelector('#df-61717c33-883e-46ef-820f-a2b85a1a1310 button');\n",
              "      quickchartButtonEl.style.display =\n",
              "        google.colab.kernel.accessAllowed ? 'block' : 'none';\n",
              "    })();\n",
              "  </script>\n",
              "</div>\n",
              "\n",
              "    </div>\n",
              "  </div>\n"
            ],
            "application/vnd.google.colaboratory.intrinsic+json": {
              "type": "dataframe",
              "summary": "{\n  \"name\": \"df_combined\",\n  \"rows\": 8,\n  \"fields\": [\n    {\n      \"column\": \"Health Expenditure (% of GDP)\",\n      \"properties\": {\n        \"dtype\": \"number\",\n        \"std\": 5.299962877287571,\n        \"min\": 2.0,\n        \"max\": 17.3625679,\n        \"num_unique_values\": 7,\n        \"samples\": [\n          2.0,\n          9.863748905,\n          13.613158402499998\n        ],\n        \"semantic_type\": \"\",\n        \"description\": \"\"\n      }\n    },\n    {\n      \"column\": \"Life Expectancy (Years)\",\n      \"properties\": {\n        \"dtype\": \"number\",\n        \"std\": 33.332199125458054,\n        \"min\": 2.0,\n        \"max\": 76.3292682926829,\n        \"num_unique_values\": 7,\n        \"samples\": [\n          2.0,\n          74.35513414634144,\n          75.34220121951218\n        ],\n        \"semantic_type\": \"\",\n        \"description\": \"\"\n      }\n    }\n  ]\n}"
            }
          },
          "metadata": {},
          "execution_count": 20
        }
      ]
    },
    {
      "cell_type": "code",
      "source": [
        "# Missing values\n",
        "print(\"Missing Values in Health Expenditure:\")\n",
        "print(df1.isnull().sum())\n",
        "\n",
        "print(\"\\nMissing Values in Life Expectancy:\")\n",
        "print(df2.isnull().sum())"
      ],
      "metadata": {
        "colab": {
          "base_uri": "https://localhost:8080/"
        },
        "id": "JrvAZg8AWgYR",
        "outputId": "37a90894-3138-44be-97c0-f7fc085b8685"
      },
      "execution_count": null,
      "outputs": [
        {
          "output_type": "stream",
          "name": "stdout",
          "text": [
            "Missing Values in Health Expenditure:\n",
            "Country Name                     0\n",
            "Health Expenditure (% of GDP)    0\n",
            "dtype: int64\n",
            "\n",
            "Missing Values in Life Expectancy:\n",
            "Country Name               0\n",
            "Life Expectancy (Years)    0\n",
            "dtype: int64\n"
          ]
        }
      ]
    },
    {
      "cell_type": "code",
      "source": [
        "# Skewness and Kurtosis\n",
        "from scipy.stats import skew, kurtosis\n",
        "\n",
        "df1 = df_combined['Health Expenditure (% of GDP)']\n",
        "df2 = df_combined['Life Expectancy (Years)']\n",
        "\n",
        "print(f\"Skewness of Health Expenditure: {skew(df1)}\")\n",
        "print(f\"Kurtosis of Health Expenditure: {kurtosis(df1)}\")\n",
        "\n",
        "print(f\"\\nSkewness of Life Expectancy: {skew(df2)}\")\n",
        "print(f\"Kurtosis of Life Expectancy: {kurtosis(df2)}\")"
      ],
      "metadata": {
        "colab": {
          "base_uri": "https://localhost:8080/"
        },
        "id": "BcIyArHTXTpa",
        "outputId": "6cd8ce4f-e48b-4e37-b30b-35b345d90a20"
      },
      "execution_count": null,
      "outputs": [
        {
          "output_type": "stream",
          "name": "stdout",
          "text": [
            "Skewness of Health Expenditure: -1.348036272941225e-16\n",
            "Kurtosis of Health Expenditure: -2.0\n",
            "\n",
            "Skewness of Life Expectancy: 1.0793985893165974e-14\n",
            "Kurtosis of Life Expectancy: -2.0\n"
          ]
        }
      ]
    },
    {
      "cell_type": "code",
      "source": [
        "# Histogram\n",
        "import matplotlib.pyplot as plt\n",
        "\n",
        "plt.hist(df1, bins=5, color='thistle', edgecolor='plum')\n",
        "plt.xlabel('Health Expenditure (% of GDP)')\n",
        "plt.ylabel('Frequency')\n",
        "plt.title('Histogram of Health Expenditure')\n",
        "plt.show()"
      ],
      "metadata": {
        "colab": {
          "base_uri": "https://localhost:8080/",
          "height": 472
        },
        "id": "NfFuCfUMbsdX",
        "outputId": "fd2db159-79a4-4621-a622-96255c036c44"
      },
      "execution_count": null,
      "outputs": [
        {
          "output_type": "display_data",
          "data": {
            "text/plain": [
              "<Figure size 640x480 with 1 Axes>"
            ],
            "image/png": "[encoded data removed]"
          },
          "metadata": {}
        }
      ]
    },
    {
      "cell_type": "code",
      "source": [
        "# Multiple Box Plots\n",
        "import seaborn as sns\n",
        "\n",
        "plt.figure(figsize=(6,4))\n",
        "sns.boxplot(x='Country Name', y='Life Expectancy (Years)', data=df_combined)\n",
        "plt.xlabel('Country')\n",
        "plt.ylabel('Life Expectancy (Years)')\n",
        "plt.title('Life Expectancy')\n",
        "plt.show()"
      ],
      "metadata": {
        "colab": {
          "base_uri": "https://localhost:8080/",
          "height": 410
        },
        "id": "PLvrFZ-1ebGg",
        "outputId": "de95ffba-8327-46d5-ab68-3c41161b8d14"
      },
      "execution_count": null,
      "outputs": [
        {
          "output_type": "display_data",
          "data": {
            "text/plain": [
              "<Figure size 600x400 with 1 Axes>"
            ],
            "image/png": "[encoded data removed]"
          },
          "metadata": {}
        }
      ]
    },
    {
      "cell_type": "code",
      "source": [
        "plt.figure(figsize=(6,4))\n",
        "sns.boxplot(x='Country Name', y='Health Expenditure (% of GDP)', data=df_combined)\n",
        "plt.xlabel('Country')\n",
        "plt.ylabel('Health Expenditure (% of GDP)')\n",
        "plt.title('Health Expenditure')\n",
        "plt.show()"
      ],
      "metadata": {
        "colab": {
          "base_uri": "https://localhost:8080/",
          "height": 410
        },
        "id": "aB7cmpVkhFDS",
        "outputId": "8e06b03d-471d-4f3a-fde3-8dc26a2d77cd"
      },
      "execution_count": null,
      "outputs": [
        {
          "output_type": "display_data",
          "data": {
            "text/plain": [
              "<Figure size 600x400 with 1 Axes>"
            ],
            "image/png": "[encoded data removed]"
          },
          "metadata": {}
        }
      ]
    }
  ]
}